{
 "cells": [
  {
   "cell_type": "code",
   "execution_count": 59,
   "metadata": {
    "collapsed": true
   },
   "outputs": [],
   "source": [
    "import keras\n",
    "from keras.datasets import imdb\n",
    "\n",
    "# IMDB dataset: 50,000개의 영화 리뷰 데이터.\n",
    "# train을 위한 리뷰 25,000개, test를 위한 리뷰 25,000개를 담고 있다.\n",
    "# 각각 긍정적인 리뷰 50%, 부정적인 리뷰 50% 이다.\n",
    "\n",
    "# 단어의 종류를 10000개로 제한한다. 너무 생소한 단어는 제외된다.\n",
    "(train_data, train_labels), (test_data, test_labels) = imdb.load_data(num_words=10000)"
   ]
  },
  {
   "cell_type": "code",
   "execution_count": 2,
   "metadata": {},
   "outputs": [
    {
     "data": {
      "text/plain": [
       "((25000,), (25000,))"
      ]
     },
     "execution_count": 2,
     "metadata": {},
     "output_type": "execute_result"
    }
   ],
   "source": [
    "train_data.shape, test_data.shape"
   ]
  },
  {
   "cell_type": "code",
   "execution_count": 3,
   "metadata": {},
   "outputs": [
    {
     "name": "stdout",
     "output_type": "stream",
     "text": [
      "1\n"
     ]
    }
   ],
   "source": [
    "# 긍정적인 리뷰이면 1, 부정적인 리뷰이면 0으로 라벨링되어있다.\n",
    "print( train_labels[0] )"
   ]
  },
  {
   "cell_type": "code",
   "execution_count": 4,
   "metadata": {},
   "outputs": [
    {
     "name": "stdout",
     "output_type": "stream",
     "text": [
      "[1, 14, 22, 16, 43, 530, 973, 1622, 1385, 65, 458, 4468, 66, 3941, 4, 173, 36, 256, 5, 25, 100, 43, 838, 112, 50, 670, 2, 9, 35, 480, 284, 5, 150, 4, 172, 112, 167, 2, 336, 385, 39, 4, 172, 4536, 1111, 17, 546, 38, 13, 447, 4, 192, 50, 16, 6, 147, 2025, 19, 14, 22, 4, 1920, 4613, 469, 4, 22, 71, 87, 12, 16, 43, 530, 38, 76, 15, 13, 1247, 4, 22, 17, 515, 17, 12, 16, 626, 18, 2, 5, 62, 386, 12, 8, 316, 8, 106, 5, 4, 2223, 5244, 16, 480, 66, 3785, 33, 4, 130, 12, 16, 38, 619, 5, 25, 124, 51, 36, 135, 48, 25, 1415, 33, 6, 22, 12, 215, 28, 77, 52, 5, 14, 407, 16, 82, 2, 8, 4, 107, 117, 5952, 15, 256, 4, 2, 7, 3766, 5, 723, 36, 71, 43, 530, 476, 26, 400, 317, 46, 7, 4, 2, 1029, 13, 104, 88, 4, 381, 15, 297, 98, 32, 2071, 56, 26, 141, 6, 194, 7486, 18, 4, 226, 22, 21, 134, 476, 26, 480, 5, 144, 30, 5535, 18, 51, 36, 28, 224, 92, 25, 104, 4, 226, 65, 16, 38, 1334, 88, 12, 16, 283, 5, 16, 4472, 113, 103, 32, 15, 16, 5345, 19, 178, 32]\n"
     ]
    }
   ],
   "source": [
    "# 리뷰(문장)를 출력해보면 숫자들이 나오는데, 각 단어가 숫자로 임베딩(또는 인코딩)되어있는 것이다.\n",
    "print( train_data[0] )"
   ]
  },
  {
   "cell_type": "code",
   "execution_count": 5,
   "metadata": {},
   "outputs": [
    {
     "name": "stdout",
     "output_type": "stream",
     "text": [
      "1 the\n",
      "2 and\n",
      "3 a\n",
      "4 of\n",
      "5 to\n",
      "6 is\n",
      "7 br\n",
      "8 in\n",
      "9 it\n",
      "9991 grabbing\n",
      "9992 soulless\n",
      "9993 unfairly\n",
      "9994 grail\n",
      "9995 retrospect\n",
      "9996 edged\n",
      "9997 retains\n",
      "9998 shenanigans\n",
      "9999 beaver\n"
     ]
    }
   ],
   "source": [
    "# 단어들이 어떤 숫자로 임베딩되어있는지 \n",
    "word_index = imdb.get_word_index()\n",
    "\n",
    "reverse_word_index = dict(\n",
    "    [(num, word) for (word, num) in word_index.items()])\n",
    "\n",
    "for i in range(1, 10):\n",
    "    print( i, reverse_word_index.get(i) )\n",
    "\n",
    "for i in range(9991, 10000):\n",
    "    print( i, reverse_word_index.get(i) )"
   ]
  },
  {
   "cell_type": "code",
   "execution_count": 6,
   "metadata": {},
   "outputs": [
    {
     "name": "stdout",
     "output_type": "stream",
     "text": [
      "? this film was just brilliant casting location scenery story direction everyone's really suited the part they played and you could just imagine being there robert ? is an amazing actor and now the same being director ? father came from the same scottish island as myself so i loved the fact there was a real connection with this film the witty remarks throughout the film were great it was just brilliant so much that i bought the film as soon as it was released for ? and would recommend it to everyone to watch and the fly fishing was amazing really cried at the end it was so sad and you know what they say if you cry at a film it must have been good and this definitely was also ? to the two little boy's that played the ? of norman and paul they were just brilliant children are often left out of the ? list i think because the stars that play them all grown up are such a big profile for the whole film but these children are amazing and should be praised for what they have done don't you think the whole story was so lovely because it was true and was someone's life after all that was shared with us all\n"
     ]
    }
   ],
   "source": [
    "# 문장의 각 단어를 디코딩한다. join 함수는 각 요소를 이어붙여 하나의 string으로 만드는 함수이다.\n",
    "decoded_review = ' '.join(\n",
    "    [reverse_word_index.get(num - 3, '?') for num in train_data[0]])\n",
    "\n",
    "# -3을 하는 이유는, 숫자의 0, 1, 2가 각각 “padding”, “start of sequence”, “unknown”으로 예약되어있기 때문이다.\n",
    "\n",
    "print( decoded_review )"
   ]
  },
  {
   "cell_type": "code",
   "execution_count": 7,
   "metadata": {
    "collapsed": true
   },
   "outputs": [],
   "source": [
    "import numpy as np\n",
    "\n",
    "# 문장을 학습에 이용할 때에는 포맷을 조금 바꿔주어야 한다.\n",
    "# 10000개의 숫자를 가지는 배열을 만들어서, 각 i에 해당하는 단어가 문장에 포함되어있으면 1, 아니면 0으로 설정한다.\n",
    "def vectorize_sequences(sequences, dimension=10000):\n",
    "    results = np.zeros((len(sequences), dimension))\n",
    "    for i, sequence in enumerate(sequences):\n",
    "        results[i, sequence] = 1.\n",
    "    return results\n",
    "\n",
    "x_train = vectorize_sequences(train_data)\n",
    "x_test = vectorize_sequences(test_data)"
   ]
  },
  {
   "cell_type": "code",
   "execution_count": 8,
   "metadata": {
    "collapsed": true
   },
   "outputs": [],
   "source": [
    "# 라벨은 int로 되어있는 것을 float로 변환한다,\n",
    "y_train = np.asarray(train_labels).astype('float32')\n",
    "y_test = np.asarray(test_labels).astype('float32')"
   ]
  },
  {
   "cell_type": "code",
   "execution_count": 9,
   "metadata": {
    "collapsed": true,
    "scrolled": true
   },
   "outputs": [],
   "source": [
    "from keras import models\n",
    "from keras import layers\n",
    "\n",
    "# 뉴럴 네트워크를 구성한다. Dense(Fully Connected) 레이어를 순서대로 3개 이어붙이고, 노드 수는 각각 16, 16, 1개이다. \n",
    "# 최종 출력은 sigmoid함수를 거친 1개의 숫자이며, 긍정적인 리뷰일 수록 이 숫자가 1에 가깝다.\n",
    "model = models.Sequential()\n",
    "model.add(layers.Dense(16, activation='relu', input_shape=(10000,)))\n",
    "model.add(layers.Dense(16, activation='relu'))\n",
    "model.add(layers.Dense(1, activation='sigmoid'))"
   ]
  },
  {
   "cell_type": "code",
   "execution_count": 10,
   "metadata": {
    "scrolled": true
   },
   "outputs": [
    {
     "name": "stdout",
     "output_type": "stream",
     "text": [
      "_________________________________________________________________\n",
      "Layer (type)                 Output Shape              Param #   \n",
      "=================================================================\n",
      "dense_1 (Dense)              (None, 16)                160016    \n",
      "_________________________________________________________________\n",
      "dense_2 (Dense)              (None, 16)                272       \n",
      "_________________________________________________________________\n",
      "dense_3 (Dense)              (None, 1)                 17        \n",
      "=================================================================\n",
      "Total params: 160,305\n",
      "Trainable params: 160,305\n",
      "Non-trainable params: 0\n",
      "_________________________________________________________________\n"
     ]
    }
   ],
   "source": [
    "model.summary()"
   ]
  },
  {
   "cell_type": "code",
   "execution_count": 11,
   "metadata": {
    "collapsed": true
   },
   "outputs": [],
   "source": [
    "# 구성한 네트워크를 학습할 때 어떤 optimizer, loss function을 쓸 것이고 어떤 metrics를 뽑을 것인지 설정한다.\n",
    "model.compile(optimizer='rmsprop',\n",
    "              loss='binary_crossentropy',\n",
    "              metrics=['accuracy'])"
   ]
  },
  {
   "cell_type": "code",
   "execution_count": null,
   "metadata": {
    "collapsed": true
   },
   "outputs": [],
   "source": [
    "# optimizer? \n",
    "RMSProb\n",
    "Adam\n",
    "...\n",
    "\n",
    "# Loss function?\n",
    "Binary Corssentropy\n",
    "MSE\n",
    "..."
   ]
  },
  {
   "cell_type": "code",
   "execution_count": 12,
   "metadata": {},
   "outputs": [
    {
     "name": "stdout",
     "output_type": "stream",
     "text": [
      "Epoch 1/10\n",
      "25000/25000 [==============================] - 4s 170us/step - loss: 0.4497 - acc: 0.8162\n",
      "Epoch 2/10\n",
      "25000/25000 [==============================] - 2s 93us/step - loss: 0.2552 - acc: 0.9096\n",
      "Epoch 3/10\n",
      "25000/25000 [==============================] - 2s 95us/step - loss: 0.1970 - acc: 0.9296\n",
      "Epoch 4/10\n",
      "25000/25000 [==============================] - 2s 97us/step - loss: 0.1669 - acc: 0.9408\n",
      "Epoch 5/10\n",
      "25000/25000 [==============================] - 2s 89us/step - loss: 0.1432 - acc: 0.9487\n",
      "Epoch 6/10\n",
      "25000/25000 [==============================] - 3s 109us/step - loss: 0.1267 - acc: 0.9560\n",
      "Epoch 7/10\n",
      "25000/25000 [==============================] - 3s 102us/step - loss: 0.1128 - acc: 0.9608\n",
      "Epoch 8/10\n",
      "25000/25000 [==============================] - 2s 97us/step - loss: 0.1011 - acc: 0.9650\n",
      "Epoch 9/10\n",
      "25000/25000 [==============================] - 2s 90us/step - loss: 0.0904 - acc: 0.9686\n",
      "Epoch 10/10\n",
      "25000/25000 [==============================] - 2s 94us/step - loss: 0.0811 - acc: 0.9722\n"
     ]
    },
    {
     "data": {
      "text/plain": [
       "<keras.callbacks.History at 0x11eeb2048>"
      ]
     },
     "execution_count": 12,
     "metadata": {},
     "output_type": "execute_result"
    }
   ],
   "source": [
    "# train 시작\n",
    "model.fit(x_train, y_train, epochs=10, batch_size=512)"
   ]
  },
  {
   "cell_type": "code",
   "execution_count": 19,
   "metadata": {},
   "outputs": [
    {
     "name": "stdout",
     "output_type": "stream",
     "text": [
      "25000/25000 [==============================] - 2s 74us/step\n",
      "loss: 0.7543113764166832  - acc: 0.85164\n"
     ]
    }
   ],
   "source": [
    "# 위에 출력된 것을 통해, epoch 10번을 거쳤을 때의 loss 및 accuracy 값을 확인할 수 있다. (train 데이터에 대해서)\n",
    "# train 완료된 모델을 test하여, loss와 accuracy를 확인해본다.\n",
    "results = model.evaluate(x_test, y_test)\n",
    "print(\"loss:\", results[0], \"- accuracy:\", results[1])"
   ]
  },
  {
   "cell_type": "code",
   "execution_count": 28,
   "metadata": {},
   "outputs": [
    {
     "name": "stdout",
     "output_type": "stream",
     "text": [
      "Train on 15000 samples, validate on 10000 samples\n",
      "Epoch 1/10\n",
      "15000/15000 [==============================] - 2s 167us/step - loss: 0.5512 - acc: 0.7917 - val_loss: 0.4481 - val_acc: 0.8582\n",
      "Epoch 2/10\n",
      "15000/15000 [==============================] - 2s 136us/step - loss: 0.3522 - acc: 0.8987 - val_loss: 0.3307 - val_acc: 0.8826\n",
      "Epoch 3/10\n",
      "15000/15000 [==============================] - 2s 138us/step - loss: 0.2532 - acc: 0.9222 - val_loss: 0.3216 - val_acc: 0.8683\n",
      "Epoch 4/10\n",
      "15000/15000 [==============================] - 4s 243us/step - loss: 0.1989 - acc: 0.9384 - val_loss: 0.2795 - val_acc: 0.8891\n",
      "Epoch 5/10\n",
      "15000/15000 [==============================] - 4s 255us/step - loss: 0.1642 - acc: 0.9467 - val_loss: 0.2809 - val_acc: 0.8878\n",
      "Epoch 6/10\n",
      "15000/15000 [==============================] - 2s 166us/step - loss: 0.1360 - acc: 0.9581 - val_loss: 0.2846 - val_acc: 0.8873\n",
      "Epoch 7/10\n",
      "15000/15000 [==============================] - 2s 157us/step - loss: 0.1132 - acc: 0.9663 - val_loss: 0.2934 - val_acc: 0.8864\n",
      "Epoch 8/10\n",
      "15000/15000 [==============================] - 2s 143us/step - loss: 0.0952 - acc: 0.9730 - val_loss: 0.3331 - val_acc: 0.8805\n",
      "Epoch 9/10\n",
      "15000/15000 [==============================] - 2s 132us/step - loss: 0.0790 - acc: 0.9775 - val_loss: 0.3300 - val_acc: 0.8827\n",
      "Epoch 10/10\n",
      "15000/15000 [==============================] - 3s 173us/step - loss: 0.0671 - acc: 0.9820 - val_loss: 0.3888 - val_acc: 0.8729\n"
     ]
    }
   ],
   "source": [
    "# test 결과를 확인하니, train때보다 loss는 높고 accuracy는 낮은, 나쁜 성능을 보인다.\n",
    "# 즉, overfitting되었다. = train 데이터에 대해 과적합되었다.\n",
    "\n",
    "# 적절한 epoch 수를 알기 위하여, epoch에 따른 loss 및 accuracy를 구해보고자 한다.\n",
    "# 이를 위하여 train 데이터의 일부를 떼어내 validation 데이터로 이용한다.\n",
    "x_val = x_train[:10000]  # validation 데이터는 1만 개\n",
    "y_val = y_train[:10000]\n",
    "partial_x_train = x_train[10000:] # train 데이터는 나머지 1만 5천 개\n",
    "partial_y_train = y_train[10000:]\n",
    "\n",
    "# 다시 학습 진행\n",
    "model = models.Sequential()\n",
    "model.add(layers.Dense(16, activation='relu', input_shape=(10000,)))\n",
    "model.add(layers.Dense(16, activation='relu'))\n",
    "model.add(layers.Dense(1, activation='sigmoid'))\n",
    "\n",
    "model.compile(optimizer='rmsprop',\n",
    "              loss='binary_crossentropy',\n",
    "              metrics=['acc'])\n",
    "\n",
    "# 학습 과정의 validation 결과를 기록한다.\n",
    "history = model.fit(partial_x_train,\n",
    "                    partial_y_train,\n",
    "                    epochs=10,\n",
    "                    batch_size=512,\n",
    "                    validation_data=(x_val, y_val))"
   ]
  },
  {
   "cell_type": "code",
   "execution_count": 29,
   "metadata": {},
   "outputs": [
    {
     "name": "stdout",
     "output_type": "stream",
     "text": [
      "dict_keys(['val_loss', 'val_acc', 'loss', 'acc'])\n"
     ]
    }
   ],
   "source": [
    "# 학습 과정의 validation 결과를 기록하였다.\n",
    "# validation 데이터와 train 데이터 각각에 대한 loss, accuracy를 담고 있다.\n",
    "history_dict = history.history\n",
    "print( history_dict.keys() )"
   ]
  },
  {
   "cell_type": "code",
   "execution_count": 30,
   "metadata": {},
   "outputs": [
    {
     "data": {
      "image/png": "[encoded data removed]",
      "text/plain": [
       "<matplotlib.figure.Figure at 0x125743080>"
      ]
     },
     "metadata": {},
     "output_type": "display_data"
    }
   ],
   "source": [
    "import matplotlib.pyplot as plt\n",
    "\n",
    "# 그래프로 표현하여 epoch에 따른 loss, accuracy 변화를 눈으로 확인해본다.\n",
    "epochs = range(1, len(history_dict['loss'])+1)\n",
    "\n",
    "# training loss와 validation loss를 얻는다.\n",
    "loss_values = history_dict['loss']\n",
    "val_loss_values = history_dict['val_loss']\n",
    "\n",
    "# plotting\n",
    "plt.plot(epochs, loss_values, 'bo', label='Training loss')  # training loss는 원 기호로 표시\n",
    "plt.plot(epochs, val_loss_values, 'b', label='Validation loss')  # validation loss는 선으로 표시\n",
    "plt.title('Training and Validation Loss')\n",
    "plt.xlabel('Epochs')\n",
    "plt.ylabel('Loss')\n",
    "plt.legend()\n",
    "\n",
    "plt.show()"
   ]
  },
  {
   "cell_type": "code",
   "execution_count": 31,
   "metadata": {},
   "outputs": [
    {
     "data": {
      "image/png": "[encoded data removed]",
      "text/plain": [
       "<matplotlib.figure.Figure at 0x126092f28>"
      ]
     },
     "metadata": {},
     "output_type": "display_data"
    }
   ],
   "source": [
    "plt.clf()  # clears the figure\n",
    "\n",
    "# training accuracy와 validation accuracy를 얻는다.\n",
    "acc_values = history_dict['acc']\n",
    "val_acc_values = history_dict['val_acc']\n",
    "\n",
    "# plotting\n",
    "plt.plot(epochs, acc_values, 'bo', label='Training acc')\n",
    "plt.plot(epochs, val_acc_values, 'b', label='Validation acc')\n",
    "plt.title('Training and Validation Accuracy')\n",
    "plt.xlabel('Epochs')\n",
    "plt.ylabel('Accuracy')\n",
    "plt.legend()\n",
    "\n",
    "plt.show()"
   ]
  },
  {
   "cell_type": "code",
   "execution_count": 32,
   "metadata": {},
   "outputs": [
    {
     "name": "stdout",
     "output_type": "stream",
     "text": [
      "Epoch 1/4\n",
      "25000/25000 [==============================] - 5s 204us/step - loss: 0.4625 - acc: 0.8208\n",
      "Epoch 2/4\n",
      "25000/25000 [==============================] - 4s 142us/step - loss: 0.2649 - acc: 0.9078\n",
      "Epoch 3/4\n",
      "25000/25000 [==============================] - 3s 120us/step - loss: 0.2051 - acc: 0.9271\n",
      "Epoch 4/4\n",
      "25000/25000 [==============================] - 3s 126us/step - loss: 0.1701 - acc: 0.9400\n"
     ]
    },
    {
     "data": {
      "text/plain": [
       "<keras.callbacks.History at 0x126081898>"
      ]
     },
     "execution_count": 32,
     "metadata": {},
     "output_type": "execute_result"
    }
   ],
   "source": [
    "# loss와 accuracy 그래프를 확인해봤을 때, epoch=4에서 과적합되지 않은 적절한 결과를 확인하였다.\n",
    "# epoch=4로 다시 train한다.\n",
    "\n",
    "model = models.Sequential()\n",
    "model.add(layers.Dense(16, activation='relu', input_shape=(10000,)))\n",
    "model.add(layers.Dense(16, activation='relu'))\n",
    "model.add(layers.Dense(1, activation='sigmoid'))\n",
    "\n",
    "model.compile(optimizer='rmsprop',\n",
    "              loss='binary_crossentropy',\n",
    "              metrics=['accuracy'])\n",
    "\n",
    "# train\n",
    "model.fit(x_train, y_train, epochs=4, batch_size=512)\n",
    "\n",
    "# test\n",
    "results = model.evaluate(x_test, y_test)\n",
    "print(\"loss:\", results[0], \"- acc:\", results[1])"
   ]
  },
  {
   "cell_type": "code",
   "execution_count": 76,
   "metadata": {},
   "outputs": [
    {
     "name": "stdout",
     "output_type": "stream",
     "text": [
      "Epoch 1/4\n",
      "25000/25000 [==============================] - 8s 329us/step - loss: 0.4049 - acc: 0.8177\n",
      "Epoch 2/4\n",
      "25000/25000 [==============================] - 4s 154us/step - loss: 0.2220 - acc: 0.9123\n",
      "Epoch 3/4\n",
      "25000/25000 [==============================] - 4s 155us/step - loss: 0.1874 - acc: 0.9275\n",
      "Epoch 4/4\n",
      "25000/25000 [==============================] - 4s 156us/step - loss: 0.1527 - acc: 0.9417\n",
      "25000/25000 [==============================] - 7s 281us/step\n",
      "loss: 0.4338413375902176 - acc: 0.842\n"
     ]
    }
   ],
   "source": [
    "# overfitting 문제는 해결하여 전보다 좋은 88% accuracy를 보인다.\n",
    "\n",
    "model = models.Sequential()\n",
    "model.add(layers.Dense(100, activation='tanh', input_shape=(10000,)))\n",
    "model.add(layers.Dense(100, activation='tanh'))\n",
    "model.add(layers.Dense(1, activation='sigmoid'))\n",
    "\n",
    "model.compile(optimizer='rmsprop',\n",
    "              loss='binary_crossentropy',\n",
    "              metrics=['accuracy'])\n",
    "\n",
    "# train\n",
    "model.fit(x_train, y_train, epochs=4, batch_size=512)\n",
    "\n",
    "# test\n",
    "results = model.evaluate(x_test, y_test)\n",
    "print(\"loss:\", results[0], \"- acc:\", results[1])"
   ]
  },
  {
   "cell_type": "code",
   "execution_count": null,
   "metadata": {
    "collapsed": true
   },
   "outputs": [],
   "source": [
    "# 끝."
   ]
  }
 ],
 "metadata": {
  "kernelspec": {
   "display_name": "Python 3",
   "language": "python",
   "name": "python3"
  },
  "language_info": {
   "codemirror_mode": {
    "name": "ipython",
    "version": 3
   },
   "file_extension": ".py",
   "mimetype": "text/x-python",
   "name": "python",
   "nbconvert_exporter": "python",
   "pygments_lexer": "ipython3",
   "version": "3.6.1"
  }
 },
 "nbformat": 4,
 "nbformat_minor": 2
}
